{
  "nbformat": 4,
  "nbformat_minor": 0,
  "metadata": {
    "colab": {
      "name": "web scrapping brighter monday jobs.ipynb",
      "provenance": [],
      "toc_visible": true,
      "authorship_tag": "ABX9TyOlbe2W6tQ7dGn37qVgbnM4",
      "include_colab_link": true
    },
    "kernelspec": {
      "name": "python3",
      "display_name": "Python 3"
    },
    "language_info": {
      "name": "python"
    }
  },
  "cells": [
    {
      "cell_type": "markdown",
      "metadata": {
        "id": "view-in-github",
        "colab_type": "text"
      },
      "source": [
        "<a href=\"https://colab.research.google.com/github/franklinokech/CeKe-Master-Database/blob/main/web_scrapping_brighter_monday_jobs.ipynb\" target=\"_parent\"><img src=\"https://colab.research.google.com/assets/colab-badge.svg\" alt=\"Open In Colab\"/></a>"
      ]
    },
    {
      "cell_type": "code",
      "metadata": {
        "id": "IJlDA_-rK6OG"
      },
      "source": [
        "import csv\n",
        "from datetime import datetime\n",
        "import requests\n",
        "from bs4 import BeautifulSoup\n",
        "import sys\n",
        "import pandas as pd"
      ],
      "execution_count": 1,
      "outputs": []
    },
    {
      "cell_type": "code",
      "metadata": {
        "id": "iXPLyydPMCGM"
      },
      "source": [
        "template = 'https://www.brightermonday.co.ke/jobs'"
      ],
      "execution_count": 2,
      "outputs": []
    },
    {
      "cell_type": "code",
      "metadata": {
        "id": "SqQnL2FmNE5p"
      },
      "source": [
        "url = template"
      ],
      "execution_count": 3,
      "outputs": []
    },
    {
      "cell_type": "markdown",
      "metadata": {
        "id": "VVMSlvhnNW_A"
      },
      "source": [
        "# Send a Get Request"
      ]
    },
    {
      "cell_type": "code",
      "metadata": {
        "id": "bFEGZtQrNRK2"
      },
      "source": [
        "response = requests.get(url)"
      ],
      "execution_count": 4,
      "outputs": []
    },
    {
      "cell_type": "code",
      "metadata": {
        "colab": {
          "base_uri": "https://localhost:8080/"
        },
        "id": "sHSEcMrdNimD",
        "outputId": "4c225b2a-7b1b-4c27-ef3d-5c3a7df4b92e"
      },
      "source": [
        "response"
      ],
      "execution_count": 5,
      "outputs": [
        {
          "output_type": "execute_result",
          "data": {
            "text/plain": [
              "<Response [200]>"
            ]
          },
          "metadata": {
            "tags": []
          },
          "execution_count": 5
        }
      ]
    },
    {
      "cell_type": "code",
      "metadata": {
        "colab": {
          "base_uri": "https://localhost:8080/",
          "height": 34
        },
        "id": "McwUah_BNkAP",
        "outputId": "75c25de4-23cd-44b1-cde5-211159711fc8"
      },
      "source": [
        "response.reason"
      ],
      "execution_count": 6,
      "outputs": [
        {
          "output_type": "execute_result",
          "data": {
            "application/vnd.google.colaboratory.intrinsic+json": {
              "type": "string"
            },
            "text/plain": [
              "'OK'"
            ]
          },
          "metadata": {
            "tags": []
          },
          "execution_count": 6
        }
      ]
    },
    {
      "cell_type": "code",
      "metadata": {
        "id": "O4dxs2XCNmRg"
      },
      "source": [
        "soup = BeautifulSoup(response.text, 'html.parser')"
      ],
      "execution_count": 7,
      "outputs": []
    },
    {
      "cell_type": "code",
      "metadata": {
        "id": "UAcgmNu2Nzan"
      },
      "source": [
        "cards = soup.find_all('header', 'search-result__header')"
      ],
      "execution_count": 8,
      "outputs": []
    },
    {
      "cell_type": "code",
      "metadata": {
        "colab": {
          "base_uri": "https://localhost:8080/"
        },
        "id": "XvTT_7PTO_GY",
        "outputId": "3bf5996d-18aa-464b-936e-116d40cdff3d"
      },
      "source": [
        "len(cards)"
      ],
      "execution_count": 9,
      "outputs": [
        {
          "output_type": "execute_result",
          "data": {
            "text/plain": [
              "20"
            ]
          },
          "metadata": {
            "tags": []
          },
          "execution_count": 9
        }
      ]
    },
    {
      "cell_type": "markdown",
      "metadata": {
        "id": "YCdIl_M3Qi-2"
      },
      "source": [
        "# Prototype The Model with a single record"
      ]
    },
    {
      "cell_type": "code",
      "metadata": {
        "id": "jSeQzMjwPERA"
      },
      "source": [
        "card = cards[0]"
      ],
      "execution_count": 10,
      "outputs": []
    },
    {
      "cell_type": "code",
      "metadata": {
        "colab": {
          "base_uri": "https://localhost:8080/"
        },
        "id": "jF1rxz3piISz",
        "outputId": "96995a7d-7987-4d1a-a662-ff15d284a89c"
      },
      "source": [
        "card"
      ],
      "execution_count": 11,
      "outputs": [
        {
          "output_type": "execute_result",
          "data": {
            "text/plain": [
              "<header class=\"search-result__header\"><div class=\"customer-card--column\"><div class=\"wrapper--inline-flex justify--space-between padding-lr-20\"><div class=\"flex--3 wrapper--inline-flex align--center direction--row\"><a class=\"search-result__job-title metrics-apply-now \" href=\"https://www.brightermonday.co.ke/listings/client-relations-manager-must-be-fluent-in-portuguese-6kmgmd\" onclick=\"window.dataLayer &amp;&amp; window.dataLayer.push({'listing_type': 'Normal'});\" title=\"Client Relations Manager – (Must be fluent in Portuguese) \"><h3>Client Relations Manager – (Must be fluent in Portuguese) </h3></a></div><div class=\"flex--2 wrapper--inline-flex justify--flex-end align--center direction--row width--120 max-width--260\"></div></div><div class=\"if-content-panel padding-lr-20 flex-direction-top-to-bottom--under-lg align--start--under-lg search-result__job-meta\"><a href=\"/company/brightermonday-consulting\">\n",
              "BrighterMonday Consulting\n",
              "</a></div><div class=\"if-content-panel align--center padding-lr-10 flex-direction-top-to-bottom--under-lg align--start--under-lg\"><div class=\"search-result__location\">\n",
              "Nairobi\n",
              "</div><span class=\"job-header__divider\">|</span><span class=\"search-result__job-type\">\n",
              "Full Time\n",
              "</span><span class=\"job-header__divider\">|</span><div class=\"search-result__job-salary\"><span class=\"text--bold\">\n",
              "KSh\n",
              "</span>\n",
              "Confidential\n",
              "</div></div><div class=\"wrapper--inline-flex justify--flex-start direction--column padding-lr-20\"><div class=\"customer-card--column\"><div class=\"search-result__job-function\"><div class=\"wrapper--inline-flex justify--space-between\"><div class=\"if-wrapper-row ellipses width--auto\">\n",
              "Job Function:\n",
              "<span class=\"padding-lr-10 gutter-flush-under-lg\">\n",
              "Customer Service &amp; Support\n",
              "</span></div><div class=\"top-jobs__content__time if-content-panel\"><div class=\"padding-r-10\"><svg aria-hidden=\"true\" class=\"i i--Newly_added_jobs color--new\" height=\"15\" role=\"presentation\" viewbox=\"0 0 25 24\" width=\"15\" xmlns=\"http://www.w3.org/2000/svg\"><path d=\"M18.75 6.25C7.5 8.75 4.875 16.462 2.275 22.925l2.363.825 1.187-2.875c.6.212 1.225.375 1.675.375C21.25 21.25 25 0 25 0 23.75 2.5 15 2.813 8.75 4.063 2.5 5.313 0 10.625 0 13.124c0 2.5 2.188 4.688 2.188 4.688C6.25 6.25 18.75 6.25 18.75 6.25z\" fill-rule=\"nonzero\"></path></svg></div>\n",
              "14h\n",
              "</div></div></div></div></div></div></header>"
            ]
          },
          "metadata": {
            "tags": []
          },
          "execution_count": 11
        }
      ]
    },
    {
      "cell_type": "code",
      "metadata": {
        "id": "qJ2Oao-oRAT8"
      },
      "source": [
        "heading = card.find('h3')"
      ],
      "execution_count": 12,
      "outputs": []
    },
    {
      "cell_type": "code",
      "metadata": {
        "id": "Inh1tkWpbsrW"
      },
      "source": [
        "heading_data = heading.text.strip()"
      ],
      "execution_count": 13,
      "outputs": []
    },
    {
      "cell_type": "code",
      "metadata": {
        "colab": {
          "base_uri": "https://localhost:8080/"
        },
        "id": "_Z-Kbup3cZH_",
        "outputId": "606802de-1eee-4e42-a9f9-89ba40170b3a"
      },
      "source": [
        "print(heading_data)"
      ],
      "execution_count": 14,
      "outputs": [
        {
          "output_type": "stream",
          "text": [
            "Client Relations Manager – (Must be fluent in Portuguese)\n"
          ],
          "name": "stdout"
        }
      ]
    },
    {
      "cell_type": "code",
      "metadata": {
        "id": "oMvoWwBThE3c"
      },
      "source": [
        "company = card.find('div', 'if-content-panel').text.strip()"
      ],
      "execution_count": 15,
      "outputs": []
    },
    {
      "cell_type": "code",
      "metadata": {
        "colab": {
          "base_uri": "https://localhost:8080/",
          "height": 34
        },
        "id": "aBb2m5QZu_1c",
        "outputId": "4da762ee-2ad9-44a6-d96b-dccacfa44923"
      },
      "source": [
        "company"
      ],
      "execution_count": 16,
      "outputs": [
        {
          "output_type": "execute_result",
          "data": {
            "application/vnd.google.colaboratory.intrinsic+json": {
              "type": "string"
            },
            "text/plain": [
              "'BrighterMonday Consulting'"
            ]
          },
          "metadata": {
            "tags": []
          },
          "execution_count": 16
        }
      ]
    },
    {
      "cell_type": "code",
      "metadata": {
        "id": "hYTRJB39krtA"
      },
      "source": [
        "location = card.find('div', 'search-result__location').text.strip()"
      ],
      "execution_count": 17,
      "outputs": []
    },
    {
      "cell_type": "code",
      "metadata": {
        "colab": {
          "base_uri": "https://localhost:8080/",
          "height": 34
        },
        "id": "bEV7pQerlBKg",
        "outputId": "c8e1ac0e-3edc-41af-e5b7-e469c51a6ee1"
      },
      "source": [
        "location"
      ],
      "execution_count": 18,
      "outputs": [
        {
          "output_type": "execute_result",
          "data": {
            "application/vnd.google.colaboratory.intrinsic+json": {
              "type": "string"
            },
            "text/plain": [
              "'Nairobi'"
            ]
          },
          "metadata": {
            "tags": []
          },
          "execution_count": 18
        }
      ]
    },
    {
      "cell_type": "code",
      "metadata": {
        "id": "og39ff9dlCfI"
      },
      "source": [
        "job_type = card.find('span', 'search-result__job-type').text.strip()"
      ],
      "execution_count": 19,
      "outputs": []
    },
    {
      "cell_type": "code",
      "metadata": {
        "colab": {
          "base_uri": "https://localhost:8080/",
          "height": 34
        },
        "id": "XZlmq4NHlihF",
        "outputId": "719b5dc8-5d7e-49fd-a9c6-ad3e6eeb2f8d"
      },
      "source": [
        "job_salary_obj = card.find('div', 'search-result__job-salary').text.strip()\n",
        "job_salary_obj"
      ],
      "execution_count": 20,
      "outputs": [
        {
          "output_type": "execute_result",
          "data": {
            "application/vnd.google.colaboratory.intrinsic+json": {
              "type": "string"
            },
            "text/plain": [
              "'KSh\\n\\nConfidential'"
            ]
          },
          "metadata": {
            "tags": []
          },
          "execution_count": 20
        }
      ]
    },
    {
      "cell_type": "code",
      "metadata": {
        "colab": {
          "base_uri": "https://localhost:8080/",
          "height": 34
        },
        "id": "XN82UIbWoF7-",
        "outputId": "3451a17a-0f1e-4ab0-c7ba-a45b5cb72410"
      },
      "source": [
        "job_function = card.find('div', 'if-wrapper-row').text.strip()\n",
        "job_function"
      ],
      "execution_count": 21,
      "outputs": [
        {
          "output_type": "execute_result",
          "data": {
            "application/vnd.google.colaboratory.intrinsic+json": {
              "type": "string"
            },
            "text/plain": [
              "'Job Function:\\n\\nCustomer Service & Support'"
            ]
          },
          "metadata": {
            "tags": []
          },
          "execution_count": 21
        }
      ]
    },
    {
      "cell_type": "code",
      "metadata": {
        "colab": {
          "base_uri": "https://localhost:8080/",
          "height": 34
        },
        "id": "qmmKhke2pO8E",
        "outputId": "53b6f5f3-842e-4a02-c774-7befb158cbf2"
      },
      "source": [
        "post_date = card.find('div', 'top-jobs__content__time').text.strip()\n",
        "post_date"
      ],
      "execution_count": 22,
      "outputs": [
        {
          "output_type": "execute_result",
          "data": {
            "application/vnd.google.colaboratory.intrinsic+json": {
              "type": "string"
            },
            "text/plain": [
              "'14h'"
            ]
          },
          "metadata": {
            "tags": []
          },
          "execution_count": 22
        }
      ]
    },
    {
      "cell_type": "code",
      "metadata": {
        "id": "q1V9BKy3rFCQ"
      },
      "source": [
        ""
      ],
      "execution_count": 22,
      "outputs": []
    },
    {
      "cell_type": "markdown",
      "metadata": {
        "id": "RFeUmFaprwHN"
      },
      "source": [
        "# Generalise the Model with a function"
      ]
    },
    {
      "cell_type": "code",
      "metadata": {
        "id": "Zqkga_efry9b"
      },
      "source": [
        "def get_record(card):\n",
        "  \"\"\"Extract job data from a single record\"\"\"\n",
        "  job_title_data = card.find('h3')\n",
        "  job_title = job_title_data.text.strip()\n",
        "  # job_url = 'https://www.indeed.com' + atag.get('href')\n",
        "  company = card.find('div', 'if-content-panel').text.strip()\n",
        "  job_type = card.find('span', 'search-result__job-type').text.strip()\n",
        "  location = card.find('div', 'search-result__location').text.strip()\n",
        "  job_salary = card.find('div', 'search-result__job-salary').text.strip()\n",
        "  job_function = card.find('div', 'if-wrapper-row').text.strip()\n",
        "  post_date = card.find('div', 'top-jobs__content__time').text.strip()\n",
        "  today = datetime.today().strftime('%Y-%m-%d')\n",
        "\n",
        "\n",
        "  record = (job_title, company, location, post_date, today, job_type, job_salary, job_function)\n",
        "\n",
        "  return record"
      ],
      "execution_count": 23,
      "outputs": []
    },
    {
      "cell_type": "code",
      "metadata": {
        "id": "iDRtfpiStgT3"
      },
      "source": [
        "records = []\n",
        "\n",
        "for card in cards:\n",
        "  record = get_record(card)\n",
        "  records.append(record)\n"
      ],
      "execution_count": 24,
      "outputs": []
    },
    {
      "cell_type": "code",
      "metadata": {
        "colab": {
          "base_uri": "https://localhost:8080/"
        },
        "id": "fkX6uc97t9w3",
        "outputId": "e60466bb-12b9-4b9e-893f-37fb97e9ee23"
      },
      "source": [
        "len(records)"
      ],
      "execution_count": 25,
      "outputs": [
        {
          "output_type": "execute_result",
          "data": {
            "text/plain": [
              "20"
            ]
          },
          "metadata": {
            "tags": []
          },
          "execution_count": 25
        }
      ]
    },
    {
      "cell_type": "markdown",
      "metadata": {
        "id": "i7ECou-kvVYy"
      },
      "source": [
        "# Next page"
      ]
    },
    {
      "cell_type": "code",
      "metadata": {
        "id": "X0AiuCFPvNAm"
      },
      "source": [
        "page = 1\n",
        "while page > 0:\n",
        "  try:\n",
        "    url = 'https://www.brightermonday.co.ke/jobs?page={}'.format(page)\n",
        "    page += 1\n",
        "\n",
        "    response = requests.get(url)\n",
        "\n",
        "    if response.reason != 'OK':\n",
        "      break\n",
        "    else:\n",
        "      soup = BeautifulSoup(response.text, 'html.parser')\n",
        "      cards = soup.find_all('header', 'search-result__header')\n",
        "      \n",
        "      for card in cards:\n",
        "        record = get_record(card)\n",
        "        records.append(record)\n",
        "\n",
        "  except :\n",
        "    print('error occured')\n",
        "    break\n",
        "  \n",
        "\n",
        "  "
      ],
      "execution_count": 26,
      "outputs": []
    },
    {
      "cell_type": "code",
      "metadata": {
        "colab": {
          "base_uri": "https://localhost:8080/"
        },
        "id": "yq2wlTE3xVPK",
        "outputId": "89a2f801-5dfa-4a55-f60b-ba0b1b7cdf6e"
      },
      "source": [
        "len(records)"
      ],
      "execution_count": 27,
      "outputs": [
        {
          "output_type": "execute_result",
          "data": {
            "text/plain": [
              "969"
            ]
          },
          "metadata": {
            "tags": []
          },
          "execution_count": 27
        }
      ]
    },
    {
      "cell_type": "code",
      "metadata": {
        "colab": {
          "base_uri": "https://localhost:8080/"
        },
        "id": "8oZNIhag0QEl",
        "outputId": "3d4c632d-e933-45a9-8c56-d42e9679e536"
      },
      "source": [
        "len(records)"
      ],
      "execution_count": 28,
      "outputs": [
        {
          "output_type": "execute_result",
          "data": {
            "text/plain": [
              "969"
            ]
          },
          "metadata": {
            "tags": []
          },
          "execution_count": 28
        }
      ]
    },
    {
      "cell_type": "code",
      "metadata": {
        "id": "QB3vxrt32kEt"
      },
      "source": [
        ""
      ],
      "execution_count": 28,
      "outputs": []
    },
    {
      "cell_type": "code",
      "metadata": {
        "id": "e7NbiXB97Xb2"
      },
      "source": [
        "  # Save the job\n",
        "  with open('kenyan_jobs.csv', 'w', newline='', encoding='utf-8') as f:\n",
        "    writer = csv.writer(f)    \n",
        "    writer.writerow(['job_title', 'company_name', 'location', 'post_date', 'ExtractDate', 'job_type', 'job_salary', 'job_function'])\n",
        "    writer.writerows(records)"
      ],
      "execution_count": 29,
      "outputs": []
    },
    {
      "cell_type": "markdown",
      "metadata": {
        "id": "zPa8zqXu_lQP"
      },
      "source": [
        "# Export to pandas df"
      ]
    },
    {
      "cell_type": "code",
      "metadata": {
        "colab": {
          "base_uri": "https://localhost:8080/",
          "height": 364
        },
        "id": "R28bVr_p_pv-",
        "outputId": "05730a40-e00d-4aeb-fc65-84997ed4019f"
      },
      "source": [
        "type(records)\n",
        "columns_name = ['job_title', 'company_name', 'location', 'post_date', 'ExtractDate', 'job_type', 'job_salary', 'job_function']\n",
        "df = pd.DataFrame(records, columns=columns_name)\n",
        "\n",
        "df.head()"
      ],
      "execution_count": 30,
      "outputs": [
        {
          "output_type": "execute_result",
          "data": {
            "text/html": [
              "<div>\n",
              "<style scoped>\n",
              "    .dataframe tbody tr th:only-of-type {\n",
              "        vertical-align: middle;\n",
              "    }\n",
              "\n",
              "    .dataframe tbody tr th {\n",
              "        vertical-align: top;\n",
              "    }\n",
              "\n",
              "    .dataframe thead th {\n",
              "        text-align: right;\n",
              "    }\n",
              "</style>\n",
              "<table border=\"1\" class=\"dataframe\">\n",
              "  <thead>\n",
              "    <tr style=\"text-align: right;\">\n",
              "      <th></th>\n",
              "      <th>job_title</th>\n",
              "      <th>company_name</th>\n",
              "      <th>location</th>\n",
              "      <th>post_date</th>\n",
              "      <th>ExtractDate</th>\n",
              "      <th>job_type</th>\n",
              "      <th>job_salary</th>\n",
              "      <th>job_function</th>\n",
              "    </tr>\n",
              "  </thead>\n",
              "  <tbody>\n",
              "    <tr>\n",
              "      <th>0</th>\n",
              "      <td>Client Relations Manager – (Must be fluent in ...</td>\n",
              "      <td>BrighterMonday Consulting</td>\n",
              "      <td>Nairobi</td>\n",
              "      <td>14h</td>\n",
              "      <td>2021-04-29</td>\n",
              "      <td>Full Time</td>\n",
              "      <td>KSh\\n\\nConfidential</td>\n",
              "      <td>Job Function:\\n\\nCustomer Service &amp; Support</td>\n",
              "    </tr>\n",
              "    <tr>\n",
              "      <th>1</th>\n",
              "      <td>Client Relations Regional Representative – Afr...</td>\n",
              "      <td>BrighterMonday Consulting</td>\n",
              "      <td>Nairobi</td>\n",
              "      <td>14h</td>\n",
              "      <td>2021-04-29</td>\n",
              "      <td>Full Time</td>\n",
              "      <td>KSh\\n \\nConfidential</td>\n",
              "      <td>Job Function:\\n\\nCustomer Service &amp; Support</td>\n",
              "    </tr>\n",
              "    <tr>\n",
              "      <th>2</th>\n",
              "      <td>Full Time Lecturer</td>\n",
              "      <td>i Manage Limited</td>\n",
              "      <td>Nairobi</td>\n",
              "      <td>14h</td>\n",
              "      <td>2021-04-29</td>\n",
              "      <td>Full Time</td>\n",
              "      <td>KSh\\n\\nConfidential</td>\n",
              "      <td>Job Function:\\n\\nResearch, Teaching &amp; Training</td>\n",
              "    </tr>\n",
              "    <tr>\n",
              "      <th>3</th>\n",
              "      <td>Writing and Document Management Consultancy</td>\n",
              "      <td>Agri Experience Ltd</td>\n",
              "      <td>Nairobi</td>\n",
              "      <td>16h</td>\n",
              "      <td>2021-04-29</td>\n",
              "      <td>Contract</td>\n",
              "      <td>KSh\\n\\nConfidential</td>\n",
              "      <td>Job Function:\\n\\nConsulting &amp; Strategy</td>\n",
              "    </tr>\n",
              "    <tr>\n",
              "      <th>4</th>\n",
              "      <td>Automotive Technician</td>\n",
              "      <td>Confidential</td>\n",
              "      <td>Nairobi</td>\n",
              "      <td>16h</td>\n",
              "      <td>2021-04-29</td>\n",
              "      <td>Full Time</td>\n",
              "      <td>KSh\\n\\nConfidential</td>\n",
              "      <td>Job Function:\\n\\nEngineering &amp; Technology</td>\n",
              "    </tr>\n",
              "  </tbody>\n",
              "</table>\n",
              "</div>"
            ],
            "text/plain": [
              "                                           job_title  ...                                    job_function\n",
              "0  Client Relations Manager – (Must be fluent in ...  ...     Job Function:\\n\\nCustomer Service & Support\n",
              "1  Client Relations Regional Representative – Afr...  ...     Job Function:\\n\\nCustomer Service & Support\n",
              "2                                 Full Time Lecturer  ...  Job Function:\\n\\nResearch, Teaching & Training\n",
              "3        Writing and Document Management Consultancy  ...          Job Function:\\n\\nConsulting & Strategy\n",
              "4                              Automotive Technician  ...       Job Function:\\n\\nEngineering & Technology\n",
              "\n",
              "[5 rows x 8 columns]"
            ]
          },
          "metadata": {
            "tags": []
          },
          "execution_count": 30
        }
      ]
    },
    {
      "cell_type": "markdown",
      "metadata": {
        "id": "IR25WjKiAX0R"
      },
      "source": [
        "# Filter Outside Kenya"
      ]
    },
    {
      "cell_type": "code",
      "metadata": {
        "colab": {
          "base_uri": "https://localhost:8080/",
          "height": 723
        },
        "id": "8t0g9N5pAaLU",
        "outputId": "fffcb5d7-c037-4ed0-e079-37f027a52ec7"
      },
      "source": [
        "df = df[df['location'] != 'Outside Kenya']\n",
        "\n",
        "df"
      ],
      "execution_count": 31,
      "outputs": [
        {
          "output_type": "execute_result",
          "data": {
            "text/html": [
              "<div>\n",
              "<style scoped>\n",
              "    .dataframe tbody tr th:only-of-type {\n",
              "        vertical-align: middle;\n",
              "    }\n",
              "\n",
              "    .dataframe tbody tr th {\n",
              "        vertical-align: top;\n",
              "    }\n",
              "\n",
              "    .dataframe thead th {\n",
              "        text-align: right;\n",
              "    }\n",
              "</style>\n",
              "<table border=\"1\" class=\"dataframe\">\n",
              "  <thead>\n",
              "    <tr style=\"text-align: right;\">\n",
              "      <th></th>\n",
              "      <th>job_title</th>\n",
              "      <th>company_name</th>\n",
              "      <th>location</th>\n",
              "      <th>post_date</th>\n",
              "      <th>ExtractDate</th>\n",
              "      <th>job_type</th>\n",
              "      <th>job_salary</th>\n",
              "      <th>job_function</th>\n",
              "    </tr>\n",
              "  </thead>\n",
              "  <tbody>\n",
              "    <tr>\n",
              "      <th>0</th>\n",
              "      <td>Client Relations Manager – (Must be fluent in ...</td>\n",
              "      <td>BrighterMonday Consulting</td>\n",
              "      <td>Nairobi</td>\n",
              "      <td>14h</td>\n",
              "      <td>2021-04-29</td>\n",
              "      <td>Full Time</td>\n",
              "      <td>KSh\\n\\nConfidential</td>\n",
              "      <td>Job Function:\\n\\nCustomer Service &amp; Support</td>\n",
              "    </tr>\n",
              "    <tr>\n",
              "      <th>1</th>\n",
              "      <td>Client Relations Regional Representative – Afr...</td>\n",
              "      <td>BrighterMonday Consulting</td>\n",
              "      <td>Nairobi</td>\n",
              "      <td>14h</td>\n",
              "      <td>2021-04-29</td>\n",
              "      <td>Full Time</td>\n",
              "      <td>KSh\\n \\nConfidential</td>\n",
              "      <td>Job Function:\\n\\nCustomer Service &amp; Support</td>\n",
              "    </tr>\n",
              "    <tr>\n",
              "      <th>2</th>\n",
              "      <td>Full Time Lecturer</td>\n",
              "      <td>i Manage Limited</td>\n",
              "      <td>Nairobi</td>\n",
              "      <td>14h</td>\n",
              "      <td>2021-04-29</td>\n",
              "      <td>Full Time</td>\n",
              "      <td>KSh\\n\\nConfidential</td>\n",
              "      <td>Job Function:\\n\\nResearch, Teaching &amp; Training</td>\n",
              "    </tr>\n",
              "    <tr>\n",
              "      <th>3</th>\n",
              "      <td>Writing and Document Management Consultancy</td>\n",
              "      <td>Agri Experience Ltd</td>\n",
              "      <td>Nairobi</td>\n",
              "      <td>16h</td>\n",
              "      <td>2021-04-29</td>\n",
              "      <td>Contract</td>\n",
              "      <td>KSh\\n\\nConfidential</td>\n",
              "      <td>Job Function:\\n\\nConsulting &amp; Strategy</td>\n",
              "    </tr>\n",
              "    <tr>\n",
              "      <th>4</th>\n",
              "      <td>Automotive Technician</td>\n",
              "      <td>Confidential</td>\n",
              "      <td>Nairobi</td>\n",
              "      <td>16h</td>\n",
              "      <td>2021-04-29</td>\n",
              "      <td>Full Time</td>\n",
              "      <td>KSh\\n\\nConfidential</td>\n",
              "      <td>Job Function:\\n\\nEngineering &amp; Technology</td>\n",
              "    </tr>\n",
              "    <tr>\n",
              "      <th>...</th>\n",
              "      <td>...</td>\n",
              "      <td>...</td>\n",
              "      <td>...</td>\n",
              "      <td>...</td>\n",
              "      <td>...</td>\n",
              "      <td>...</td>\n",
              "      <td>...</td>\n",
              "      <td>...</td>\n",
              "    </tr>\n",
              "    <tr>\n",
              "      <th>964</th>\n",
              "      <td>Chemicals Sales Executive</td>\n",
              "      <td>BrighterMonday Consulting</td>\n",
              "      <td>Nairobi</td>\n",
              "      <td>1mo</td>\n",
              "      <td>2021-04-29</td>\n",
              "      <td>Full Time</td>\n",
              "      <td>KSh\\n\\nConfidential</td>\n",
              "      <td>Job Function:\\n\\nSales</td>\n",
              "    </tr>\n",
              "    <tr>\n",
              "      <th>965</th>\n",
              "      <td>Digital Marketing Intern</td>\n",
              "      <td>Confidential</td>\n",
              "      <td>Nairobi</td>\n",
              "      <td>1mo</td>\n",
              "      <td>2021-04-29</td>\n",
              "      <td>Internship &amp; Graduate</td>\n",
              "      <td>KSh\\n\\n15,000 - 30,000</td>\n",
              "      <td>Job Function:\\n\\nMarketing &amp; Communications</td>\n",
              "    </tr>\n",
              "    <tr>\n",
              "      <th>966</th>\n",
              "      <td>CYBERCRIME ANTI-PIRACY ANALYST</td>\n",
              "      <td>BrighterMonday Consulting</td>\n",
              "      <td>Nairobi</td>\n",
              "      <td>1mo</td>\n",
              "      <td>2021-04-29</td>\n",
              "      <td>Full Time</td>\n",
              "      <td>KSh\\n\\nConfidential</td>\n",
              "      <td>Job Function:\\n\\nSoftware &amp; Data</td>\n",
              "    </tr>\n",
              "    <tr>\n",
              "      <th>967</th>\n",
              "      <td>ANTI-PIRACY AND SECURITY INVESTIGATOR</td>\n",
              "      <td>BrighterMonday Consulting</td>\n",
              "      <td>Nairobi</td>\n",
              "      <td>1mo</td>\n",
              "      <td>2021-04-29</td>\n",
              "      <td>Full Time</td>\n",
              "      <td>KSh\\n\\nConfidential</td>\n",
              "      <td>Job Function:\\n\\nProduct &amp; Project Management</td>\n",
              "    </tr>\n",
              "    <tr>\n",
              "      <th>968</th>\n",
              "      <td>COMMERCIAL LEGALIZATION OFFICER</td>\n",
              "      <td>BrighterMonday Consulting</td>\n",
              "      <td>Nairobi</td>\n",
              "      <td>1mo</td>\n",
              "      <td>2021-04-29</td>\n",
              "      <td>Full Time</td>\n",
              "      <td>KSh\\n\\nConfidential</td>\n",
              "      <td>Job Function:\\n\\nProduct &amp; Project Management</td>\n",
              "    </tr>\n",
              "  </tbody>\n",
              "</table>\n",
              "<p>944 rows × 8 columns</p>\n",
              "</div>"
            ],
            "text/plain": [
              "                                             job_title  ...                                    job_function\n",
              "0    Client Relations Manager – (Must be fluent in ...  ...     Job Function:\\n\\nCustomer Service & Support\n",
              "1    Client Relations Regional Representative – Afr...  ...     Job Function:\\n\\nCustomer Service & Support\n",
              "2                                   Full Time Lecturer  ...  Job Function:\\n\\nResearch, Teaching & Training\n",
              "3          Writing and Document Management Consultancy  ...          Job Function:\\n\\nConsulting & Strategy\n",
              "4                                Automotive Technician  ...       Job Function:\\n\\nEngineering & Technology\n",
              "..                                                 ...  ...                                             ...\n",
              "964                          Chemicals Sales Executive  ...                          Job Function:\\n\\nSales\n",
              "965                           Digital Marketing Intern  ...     Job Function:\\n\\nMarketing & Communications\n",
              "966                     CYBERCRIME ANTI-PIRACY ANALYST  ...                Job Function:\\n\\nSoftware & Data\n",
              "967              ANTI-PIRACY AND SECURITY INVESTIGATOR  ...   Job Function:\\n\\nProduct & Project Management\n",
              "968                    COMMERCIAL LEGALIZATION OFFICER  ...   Job Function:\\n\\nProduct & Project Management\n",
              "\n",
              "[944 rows x 8 columns]"
            ]
          },
          "metadata": {
            "tags": []
          },
          "execution_count": 31
        }
      ]
    },
    {
      "cell_type": "code",
      "metadata": {
        "id": "x4n8zuiyAsTG"
      },
      "source": [
        "df.to_csv('kenya_only.csv', index=False)"
      ],
      "execution_count": 32,
      "outputs": []
    },
    {
      "cell_type": "markdown",
      "metadata": {
        "id": "VRJdJ8j_7HJE"
      },
      "source": [
        "# Putting It All Together"
      ]
    },
    {
      "cell_type": "code",
      "metadata": {
        "id": "qMDe7PO97JsK"
      },
      "source": [
        "# Put is all tpgethr"
      ],
      "execution_count": 33,
      "outputs": []
    },
    {
      "cell_type": "code",
      "metadata": {
        "id": "RpHpLoNbWswo"
      },
      "source": [
        ""
      ],
      "execution_count": null,
      "outputs": []
    }
  ]
}